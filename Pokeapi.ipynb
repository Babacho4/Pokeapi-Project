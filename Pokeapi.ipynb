{
 "cells": [
  {
   "cell_type": "code",
   "execution_count": 1,
   "id": "d96738c2",
   "metadata": {},
   "outputs": [],
   "source": [
    "import requests \n",
    "import json \n",
    "import numpy as np\n",
    "import pandas as pd \n",
    "import matplotlib as mlp\n",
    "import matplotlib.pyplot as plt\n",
    "import seaborn as sns"
   ]
  },
  {
   "cell_type": "code",
   "execution_count": 2,
   "id": "25e5b0d7",
   "metadata": {},
   "outputs": [],
   "source": [
    "url = \"https://pokeapi.co/api/v2/pokemon?limit=1200\"\n",
    "response = requests.get(url)\n",
    "contenido= response.content"
   ]
  },
  {
   "cell_type": "code",
   "execution_count": 3,
   "id": "c9274a9f",
   "metadata": {},
   "outputs": [
    {
     "name": "stdout",
     "output_type": "stream",
     "text": [
      "Wall time: 6.13 ms\n"
     ]
    },
    {
     "data": {
      "text/plain": [
       "(1118, 1)"
      ]
     },
     "execution_count": 3,
     "metadata": {},
     "output_type": "execute_result"
    }
   ],
   "source": [
    "%%time\n",
    "# Lista completa de pokemones\n",
    "data = json.loads(response.text)\n",
    "listado=data[\"results\"]\n",
    "\n",
    "df=pd.DataFrame(listado)\n",
    "df=df.drop(labels='url', axis=1)\n",
    "df.shape"
   ]
  },
  {
   "cell_type": "markdown",
   "id": "8fa7d115",
   "metadata": {},
   "source": [
    "## Funcion por nombre"
   ]
  },
  {
   "cell_type": "code",
   "execution_count": 11,
   "id": "a75fe5c9",
   "metadata": {},
   "outputs": [],
   "source": [
    "pokemones=df['name'].unique()"
   ]
  },
  {
   "cell_type": "code",
   "execution_count": 13,
   "id": "110476cf",
   "metadata": {},
   "outputs": [
    {
     "name": "stdout",
     "output_type": "stream",
     "text": [
      "Wall time: 11 s\n"
     ]
    },
    {
     "data": {
      "text/html": [
       "<div>\n",
       "<style scoped>\n",
       "    .dataframe tbody tr th:only-of-type {\n",
       "        vertical-align: middle;\n",
       "    }\n",
       "\n",
       "    .dataframe tbody tr th {\n",
       "        vertical-align: top;\n",
       "    }\n",
       "\n",
       "    .dataframe thead th {\n",
       "        text-align: right;\n",
       "    }\n",
       "</style>\n",
       "<table border=\"1\" class=\"dataframe\">\n",
       "  <thead>\n",
       "    <tr style=\"text-align: right;\">\n",
       "      <th></th>\n",
       "      <th>name</th>\n",
       "      <th>id</th>\n",
       "      <th>height</th>\n",
       "      <th>weight</th>\n",
       "      <th>base_experience</th>\n",
       "    </tr>\n",
       "  </thead>\n",
       "  <tbody>\n",
       "    <tr>\n",
       "      <th>63</th>\n",
       "      <td>kadabra</td>\n",
       "      <td>64.0</td>\n",
       "      <td>13.0</td>\n",
       "      <td>565.0</td>\n",
       "      <td>140.0</td>\n",
       "    </tr>\n",
       "    <tr>\n",
       "      <th>1</th>\n",
       "      <td>ivysaur</td>\n",
       "      <td>2.0</td>\n",
       "      <td>10.0</td>\n",
       "      <td>130.0</td>\n",
       "      <td>142.0</td>\n",
       "    </tr>\n",
       "    <tr>\n",
       "      <th>49</th>\n",
       "      <td>diglett</td>\n",
       "      <td>50.0</td>\n",
       "      <td>2.0</td>\n",
       "      <td>8.0</td>\n",
       "      <td>53.0</td>\n",
       "    </tr>\n",
       "    <tr>\n",
       "      <th>40</th>\n",
       "      <td>zubat</td>\n",
       "      <td>41.0</td>\n",
       "      <td>8.0</td>\n",
       "      <td>75.0</td>\n",
       "      <td>49.0</td>\n",
       "    </tr>\n",
       "    <tr>\n",
       "      <th>87</th>\n",
       "      <td>grimer</td>\n",
       "      <td>88.0</td>\n",
       "      <td>9.0</td>\n",
       "      <td>300.0</td>\n",
       "      <td>65.0</td>\n",
       "    </tr>\n",
       "    <tr>\n",
       "      <th>94</th>\n",
       "      <td>onix</td>\n",
       "      <td>95.0</td>\n",
       "      <td>88.0</td>\n",
       "      <td>2100.0</td>\n",
       "      <td>77.0</td>\n",
       "    </tr>\n",
       "    <tr>\n",
       "      <th>56</th>\n",
       "      <td>primeape</td>\n",
       "      <td>57.0</td>\n",
       "      <td>10.0</td>\n",
       "      <td>320.0</td>\n",
       "      <td>159.0</td>\n",
       "    </tr>\n",
       "    <tr>\n",
       "      <th>86</th>\n",
       "      <td>dewgong</td>\n",
       "      <td>87.0</td>\n",
       "      <td>17.0</td>\n",
       "      <td>1200.0</td>\n",
       "      <td>166.0</td>\n",
       "    </tr>\n",
       "    <tr>\n",
       "      <th>4</th>\n",
       "      <td>charmeleon</td>\n",
       "      <td>5.0</td>\n",
       "      <td>11.0</td>\n",
       "      <td>190.0</td>\n",
       "      <td>142.0</td>\n",
       "    </tr>\n",
       "    <tr>\n",
       "      <th>15</th>\n",
       "      <td>pidgey</td>\n",
       "      <td>16.0</td>\n",
       "      <td>3.0</td>\n",
       "      <td>18.0</td>\n",
       "      <td>50.0</td>\n",
       "    </tr>\n",
       "  </tbody>\n",
       "</table>\n",
       "</div>"
      ],
      "text/plain": [
       "          name    id  height  weight  base_experience\n",
       "63     kadabra  64.0    13.0   565.0            140.0\n",
       "1      ivysaur   2.0    10.0   130.0            142.0\n",
       "49     diglett  50.0     2.0     8.0             53.0\n",
       "40       zubat  41.0     8.0    75.0             49.0\n",
       "87      grimer  88.0     9.0   300.0             65.0\n",
       "94        onix  95.0    88.0  2100.0             77.0\n",
       "56    primeape  57.0    10.0   320.0            159.0\n",
       "86     dewgong  87.0    17.0  1200.0            166.0\n",
       "4   charmeleon   5.0    11.0   190.0            142.0\n",
       "15      pidgey  16.0     3.0    18.0             50.0"
      ]
     },
     "execution_count": 13,
     "metadata": {},
     "output_type": "execute_result"
    }
   ],
   "source": [
    "%%time\n",
    "resultados=[]\n",
    "for x in pokemones:\n",
    "    url_stat = \"https://pokeapi.co/api/v2/pokemon/\"+ str(x)\n",
    "    response_stat = requests.get(url_stat)\n",
    "    pokelist= pd.json_normalize(json.loads(response_stat.text))[['id','name','height','weight','base_experience']]\n",
    "    resultados.append(pokelist)\n",
    "    df1=df.append(resultados).dropna()\n",
    "    df1.reset_index(drop=True, inplace=True)\n",
    "    # df1.to_csv('pokemon.csv', index=False)\n",
    "df1.sample(10)"
   ]
  },
  {
   "cell_type": "markdown",
   "id": "477274b6",
   "metadata": {},
   "source": [
    "## Agregar TIPO"
   ]
  },
  {
   "cell_type": "code",
   "execution_count": null,
   "id": "fb7f6b3e",
   "metadata": {},
   "outputs": [],
   "source": [
    "%%time\n",
    "y=0\n",
    "typelist=[]\n",
    "for y in pokemones:\n",
    "    url3 = \"https://pokeapi.co/api/v2/pokemon/\"+str(y)\n",
    "    response3 = requests.get(url3)\n",
    "    contenido3= response3.content\n",
    "    data3 = json.loads(response3.text)\n",
    "    results3=data3[\"types\"]\n",
    "    slot1=results3[0:1]\n",
    "    tipo=slot1[0]['type']['name']\n",
    "    typelist.append(tipo)\n",
    "    \n",
    "df3 = pd.DataFrame(typelist, columns=['Tipo'])"
   ]
  },
  {
   "cell_type": "code",
   "execution_count": null,
   "id": "fa6f15e9",
   "metadata": {},
   "outputs": [],
   "source": [
    "bigdata = pd.concat([df1,df3], axis=1)\n",
    "bigdata.head()"
   ]
  },
  {
   "cell_type": "markdown",
   "id": "da36149e",
   "metadata": {},
   "source": [
    "## Graficas"
   ]
  },
  {
   "cell_type": "code",
   "execution_count": null,
   "id": "1168c47d",
   "metadata": {},
   "outputs": [],
   "source": [
    "values=bigdata['Tipo'].value_counts()\n",
    "tags=bigdata['Tipo'].unique()\n",
    "values"
   ]
  },
  {
   "cell_type": "code",
   "execution_count": null,
   "id": "5e4e6417",
   "metadata": {},
   "outputs": [],
   "source": [
    "sns.set_theme(style=\"whitegrid\")\n",
    "plt.xticks(rotation=90)\n",
    "ax = sns.barplot(x=tags, y=values, data=bigdata)"
   ]
  },
  {
   "cell_type": "markdown",
   "id": "1208ff0b",
   "metadata": {},
   "source": [
    "## APENDIX"
   ]
  },
  {
   "cell_type": "markdown",
   "id": "037d4d1c",
   "metadata": {},
   "source": [
    "#### FUNCION X ID"
   ]
  },
  {
   "cell_type": "code",
   "execution_count": null,
   "id": "b52f8a35",
   "metadata": {},
   "outputs": [],
   "source": [
    "# %%time\n",
    "# x=0\n",
    "# result=[]\n",
    "# while x < 898:\n",
    "#         x=x +1\n",
    "#         url_stat = \"https://pokeapi.co/api/v2/pokemon/\"+ str(x)\n",
    "#         response_stat = requests.get(url_stat)\n",
    "#         pokelist= pd.json_normalize(json.loads(response_stat.text))[['id','name','height','weight','base_experience']]\n",
    "#         result.append(pokelist)\n",
    "#         df1=df.append(result).dropna()\n",
    "#         df1.reset_index(drop=True, inplace=True)\n",
    "# # df2.to_csv('pokemon.csv', index=False)"
   ]
  },
  {
   "cell_type": "code",
   "execution_count": null,
   "id": "f58e281d",
   "metadata": {},
   "outputs": [],
   "source": [
    "# %%time\n",
    "# x1=10000\n",
    "# result1=[]\n",
    "# while x1 < 10220:\n",
    "#         x1=x1 +1\n",
    "#         url_stat1 = \"https://pokeapi.co/api/v2/pokemon/\"+ str(x1)\n",
    "#         response_stat1 = requests.get(url_stat1)\n",
    "#         pokelist1= pd.json_normalize(json.loads(response_stat1.text))[['id','name','height','weight','base_experience']]\n",
    "#         result1.append(pokelist1)\n",
    "#         df2=df.append(result1).dropna()\n",
    "#         df2.reset_index(drop=True, inplace=True)\n",
    "# # df2.to_csv('pokemon.csv', index=False)"
   ]
  },
  {
   "cell_type": "markdown",
   "id": "be06edf1",
   "metadata": {},
   "source": [
    "#### Locator Type Fx"
   ]
  },
  {
   "cell_type": "code",
   "execution_count": null,
   "id": "cf76d825",
   "metadata": {},
   "outputs": [],
   "source": [
    "# ## LOCATOR DE TYPE\n",
    "# url3 = \"https://pokeapi.co/api/v2/pokemon/2/\"\n",
    "# response3 = requests.get(url3)\n",
    "# contenido3= response3.content\n",
    "# data3 = json.loads(response3.text)\n",
    "# results3=data3[\"types\"]\n",
    "# slot1=results3[0:1]\n",
    "# grass=slot1[0]['type']['name']\n",
    "# grass"
   ]
  },
  {
   "cell_type": "code",
   "execution_count": null,
   "id": "9873ddfd",
   "metadata": {},
   "outputs": [],
   "source": [
    "# def poketype(y):\n",
    "#     url3 = \"https://pokeapi.co/api/v2/pokemon/\"+str(y)\n",
    "#     response3 = requests.get(url3)\n",
    "#     contenido3= response3.content\n",
    "#     data3 = json.loads(response3.text)\n",
    "#     results3=data3[\"types\"]\n",
    "#     slot1=results3[0:1]\n",
    "#     tipo=slot1[0]['type']['name']\n",
    "#     df2['tipo']= tipo\n",
    "#     return df2"
   ]
  },
  {
   "cell_type": "code",
   "execution_count": null,
   "id": "65cf5d72",
   "metadata": {},
   "outputs": [],
   "source": []
  },
  {
   "cell_type": "code",
   "execution_count": null,
   "id": "a668a194",
   "metadata": {},
   "outputs": [],
   "source": []
  },
  {
   "cell_type": "code",
   "execution_count": null,
   "id": "0957943b",
   "metadata": {},
   "outputs": [],
   "source": []
  },
  {
   "cell_type": "code",
   "execution_count": null,
   "id": "76a9d196",
   "metadata": {},
   "outputs": [],
   "source": []
  }
 ],
 "metadata": {
  "kernelspec": {
   "display_name": "Python [conda env:dhdsblend2021] *",
   "language": "python",
   "name": "conda-env-dhdsblend2021-py"
  },
  "language_info": {
   "codemirror_mode": {
    "name": "ipython",
    "version": 3
   },
   "file_extension": ".py",
   "mimetype": "text/x-python",
   "name": "python",
   "nbconvert_exporter": "python",
   "pygments_lexer": "ipython3",
   "version": "3.8.11"
  }
 },
 "nbformat": 4,
 "nbformat_minor": 5
}
